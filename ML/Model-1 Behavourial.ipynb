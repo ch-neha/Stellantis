{
 "cells": [
  {
   "cell_type": "code",
   "execution_count": 1,
   "id": "0b9c1fdd",
   "metadata": {},
   "outputs": [],
   "source": [
    "import pandas as pd\n",
    "import numpy as np"
   ]
  },
  {
   "cell_type": "code",
   "execution_count": 2,
   "id": "18548a69",
   "metadata": {},
   "outputs": [],
   "source": [
    "df=pd.read_csv('final_wrangled.csv')"
   ]
  },
  {
   "cell_type": "code",
   "execution_count": 3,
   "id": "07320b1b",
   "metadata": {},
   "outputs": [
    {
     "data": {
      "text/html": [
       "<div>\n",
       "<style scoped>\n",
       "    .dataframe tbody tr th:only-of-type {\n",
       "        vertical-align: middle;\n",
       "    }\n",
       "\n",
       "    .dataframe tbody tr th {\n",
       "        vertical-align: top;\n",
       "    }\n",
       "\n",
       "    .dataframe thead th {\n",
       "        text-align: right;\n",
       "    }\n",
       "</style>\n",
       "<table border=\"1\" class=\"dataframe\">\n",
       "  <thead>\n",
       "    <tr style=\"text-align: right;\">\n",
       "      <th></th>\n",
       "      <th>Unnamed: 0</th>\n",
       "      <th>0</th>\n",
       "      <th>1</th>\n",
       "      <th>2</th>\n",
       "      <th>3</th>\n",
       "      <th>4</th>\n",
       "      <th>5</th>\n",
       "      <th>6</th>\n",
       "      <th>7</th>\n",
       "      <th>8</th>\n",
       "      <th>...</th>\n",
       "      <th>18</th>\n",
       "      <th>19</th>\n",
       "      <th>20</th>\n",
       "      <th>21</th>\n",
       "      <th>22</th>\n",
       "      <th>23</th>\n",
       "      <th>24</th>\n",
       "      <th>25</th>\n",
       "      <th>26</th>\n",
       "      <th>27</th>\n",
       "    </tr>\n",
       "  </thead>\n",
       "  <tbody>\n",
       "    <tr>\n",
       "      <th>0</th>\n",
       "      <td>0</td>\n",
       "      <td>1.632387</td>\n",
       "      <td>0.0</td>\n",
       "      <td>0.0</td>\n",
       "      <td>0.0</td>\n",
       "      <td>36.0</td>\n",
       "      <td>467.0</td>\n",
       "      <td>0.0</td>\n",
       "      <td>128.0</td>\n",
       "      <td>0.0</td>\n",
       "      <td>...</td>\n",
       "      <td>467.0</td>\n",
       "      <td>0.0</td>\n",
       "      <td>128.0</td>\n",
       "      <td>0.0</td>\n",
       "      <td>0.0</td>\n",
       "      <td>0.0</td>\n",
       "      <td>0.0</td>\n",
       "      <td>0.0</td>\n",
       "      <td>0.0</td>\n",
       "      <td>2.397531</td>\n",
       "    </tr>\n",
       "    <tr>\n",
       "      <th>1</th>\n",
       "      <td>1</td>\n",
       "      <td>2.397531</td>\n",
       "      <td>2621.0</td>\n",
       "      <td>0.0</td>\n",
       "      <td>0.0</td>\n",
       "      <td>36.0</td>\n",
       "      <td>467.0</td>\n",
       "      <td>0.0</td>\n",
       "      <td>128.0</td>\n",
       "      <td>0.0</td>\n",
       "      <td>...</td>\n",
       "      <td>467.0</td>\n",
       "      <td>0.0</td>\n",
       "      <td>128.0</td>\n",
       "      <td>0.0</td>\n",
       "      <td>0.0</td>\n",
       "      <td>0.0</td>\n",
       "      <td>0.0</td>\n",
       "      <td>0.0</td>\n",
       "      <td>0.0</td>\n",
       "      <td>2.397531</td>\n",
       "    </tr>\n",
       "    <tr>\n",
       "      <th>2</th>\n",
       "      <td>2</td>\n",
       "      <td>2.397531</td>\n",
       "      <td>2621.0</td>\n",
       "      <td>0.0</td>\n",
       "      <td>0.0</td>\n",
       "      <td>36.0</td>\n",
       "      <td>467.0</td>\n",
       "      <td>0.0</td>\n",
       "      <td>128.0</td>\n",
       "      <td>0.0</td>\n",
       "      <td>...</td>\n",
       "      <td>467.0</td>\n",
       "      <td>0.0</td>\n",
       "      <td>128.0</td>\n",
       "      <td>0.0</td>\n",
       "      <td>0.0</td>\n",
       "      <td>0.0</td>\n",
       "      <td>0.0</td>\n",
       "      <td>0.0</td>\n",
       "      <td>0.0</td>\n",
       "      <td>2.397531</td>\n",
       "    </tr>\n",
       "    <tr>\n",
       "      <th>3</th>\n",
       "      <td>3</td>\n",
       "      <td>2.397531</td>\n",
       "      <td>2621.0</td>\n",
       "      <td>0.0</td>\n",
       "      <td>0.0</td>\n",
       "      <td>36.0</td>\n",
       "      <td>467.0</td>\n",
       "      <td>0.0</td>\n",
       "      <td>128.0</td>\n",
       "      <td>0.0</td>\n",
       "      <td>...</td>\n",
       "      <td>467.0</td>\n",
       "      <td>0.0</td>\n",
       "      <td>128.0</td>\n",
       "      <td>0.0</td>\n",
       "      <td>0.0</td>\n",
       "      <td>0.0</td>\n",
       "      <td>0.0</td>\n",
       "      <td>0.0</td>\n",
       "      <td>0.0</td>\n",
       "      <td>2.397531</td>\n",
       "    </tr>\n",
       "    <tr>\n",
       "      <th>4</th>\n",
       "      <td>4</td>\n",
       "      <td>2.397531</td>\n",
       "      <td>2621.0</td>\n",
       "      <td>0.0</td>\n",
       "      <td>0.0</td>\n",
       "      <td>36.0</td>\n",
       "      <td>467.0</td>\n",
       "      <td>0.0</td>\n",
       "      <td>128.0</td>\n",
       "      <td>0.0</td>\n",
       "      <td>...</td>\n",
       "      <td>512.0</td>\n",
       "      <td>0.0</td>\n",
       "      <td>128.0</td>\n",
       "      <td>0.0</td>\n",
       "      <td>0.0</td>\n",
       "      <td>0.0</td>\n",
       "      <td>0.0</td>\n",
       "      <td>0.0</td>\n",
       "      <td>0.0</td>\n",
       "      <td>1.678357</td>\n",
       "    </tr>\n",
       "  </tbody>\n",
       "</table>\n",
       "<p>5 rows × 29 columns</p>\n",
       "</div>"
      ],
      "text/plain": [
       "   Unnamed: 0         0       1    2    3     4      5    6      7    8  ...  \\\n",
       "0           0  1.632387     0.0  0.0  0.0  36.0  467.0  0.0  128.0  0.0  ...   \n",
       "1           1  2.397531  2621.0  0.0  0.0  36.0  467.0  0.0  128.0  0.0  ...   \n",
       "2           2  2.397531  2621.0  0.0  0.0  36.0  467.0  0.0  128.0  0.0  ...   \n",
       "3           3  2.397531  2621.0  0.0  0.0  36.0  467.0  0.0  128.0  0.0  ...   \n",
       "4           4  2.397531  2621.0  0.0  0.0  36.0  467.0  0.0  128.0  0.0  ...   \n",
       "\n",
       "      18   19     20   21   22   23   24   25   26        27  \n",
       "0  467.0  0.0  128.0  0.0  0.0  0.0  0.0  0.0  0.0  2.397531  \n",
       "1  467.0  0.0  128.0  0.0  0.0  0.0  0.0  0.0  0.0  2.397531  \n",
       "2  467.0  0.0  128.0  0.0  0.0  0.0  0.0  0.0  0.0  2.397531  \n",
       "3  467.0  0.0  128.0  0.0  0.0  0.0  0.0  0.0  0.0  2.397531  \n",
       "4  512.0  0.0  128.0  0.0  0.0  0.0  0.0  0.0  0.0  1.678357  \n",
       "\n",
       "[5 rows x 29 columns]"
      ]
     },
     "execution_count": 3,
     "metadata": {},
     "output_type": "execute_result"
    }
   ],
   "source": [
    "df.head()"
   ]
  },
  {
   "cell_type": "code",
   "execution_count": 4,
   "id": "995923db",
   "metadata": {},
   "outputs": [],
   "source": [
    "df=df.drop('Unnamed: 0',axis=1)"
   ]
  },
  {
   "cell_type": "code",
   "execution_count": 5,
   "id": "917f13e4",
   "metadata": {},
   "outputs": [
    {
     "data": {
      "text/html": [
       "<div>\n",
       "<style scoped>\n",
       "    .dataframe tbody tr th:only-of-type {\n",
       "        vertical-align: middle;\n",
       "    }\n",
       "\n",
       "    .dataframe tbody tr th {\n",
       "        vertical-align: top;\n",
       "    }\n",
       "\n",
       "    .dataframe thead th {\n",
       "        text-align: right;\n",
       "    }\n",
       "</style>\n",
       "<table border=\"1\" class=\"dataframe\">\n",
       "  <thead>\n",
       "    <tr style=\"text-align: right;\">\n",
       "      <th></th>\n",
       "      <th>0</th>\n",
       "      <th>1</th>\n",
       "      <th>2</th>\n",
       "      <th>3</th>\n",
       "      <th>4</th>\n",
       "      <th>5</th>\n",
       "      <th>6</th>\n",
       "      <th>7</th>\n",
       "      <th>8</th>\n",
       "      <th>9</th>\n",
       "      <th>...</th>\n",
       "      <th>18</th>\n",
       "      <th>19</th>\n",
       "      <th>20</th>\n",
       "      <th>21</th>\n",
       "      <th>22</th>\n",
       "      <th>23</th>\n",
       "      <th>24</th>\n",
       "      <th>25</th>\n",
       "      <th>26</th>\n",
       "      <th>27</th>\n",
       "    </tr>\n",
       "  </thead>\n",
       "  <tbody>\n",
       "    <tr>\n",
       "      <th>0</th>\n",
       "      <td>1.632387</td>\n",
       "      <td>0.0</td>\n",
       "      <td>0.0</td>\n",
       "      <td>0.0</td>\n",
       "      <td>36.0</td>\n",
       "      <td>467.0</td>\n",
       "      <td>0.0</td>\n",
       "      <td>128.0</td>\n",
       "      <td>0.0</td>\n",
       "      <td>0.0</td>\n",
       "      <td>...</td>\n",
       "      <td>467.0</td>\n",
       "      <td>0.0</td>\n",
       "      <td>128.0</td>\n",
       "      <td>0.0</td>\n",
       "      <td>0.0</td>\n",
       "      <td>0.0</td>\n",
       "      <td>0.0</td>\n",
       "      <td>0.0</td>\n",
       "      <td>0.0</td>\n",
       "      <td>2.397531</td>\n",
       "    </tr>\n",
       "    <tr>\n",
       "      <th>1</th>\n",
       "      <td>2.397531</td>\n",
       "      <td>2621.0</td>\n",
       "      <td>0.0</td>\n",
       "      <td>0.0</td>\n",
       "      <td>36.0</td>\n",
       "      <td>467.0</td>\n",
       "      <td>0.0</td>\n",
       "      <td>128.0</td>\n",
       "      <td>0.0</td>\n",
       "      <td>0.0</td>\n",
       "      <td>...</td>\n",
       "      <td>467.0</td>\n",
       "      <td>0.0</td>\n",
       "      <td>128.0</td>\n",
       "      <td>0.0</td>\n",
       "      <td>0.0</td>\n",
       "      <td>0.0</td>\n",
       "      <td>0.0</td>\n",
       "      <td>0.0</td>\n",
       "      <td>0.0</td>\n",
       "      <td>2.397531</td>\n",
       "    </tr>\n",
       "    <tr>\n",
       "      <th>2</th>\n",
       "      <td>2.397531</td>\n",
       "      <td>2621.0</td>\n",
       "      <td>0.0</td>\n",
       "      <td>0.0</td>\n",
       "      <td>36.0</td>\n",
       "      <td>467.0</td>\n",
       "      <td>0.0</td>\n",
       "      <td>128.0</td>\n",
       "      <td>0.0</td>\n",
       "      <td>0.0</td>\n",
       "      <td>...</td>\n",
       "      <td>467.0</td>\n",
       "      <td>0.0</td>\n",
       "      <td>128.0</td>\n",
       "      <td>0.0</td>\n",
       "      <td>0.0</td>\n",
       "      <td>0.0</td>\n",
       "      <td>0.0</td>\n",
       "      <td>0.0</td>\n",
       "      <td>0.0</td>\n",
       "      <td>2.397531</td>\n",
       "    </tr>\n",
       "    <tr>\n",
       "      <th>3</th>\n",
       "      <td>2.397531</td>\n",
       "      <td>2621.0</td>\n",
       "      <td>0.0</td>\n",
       "      <td>0.0</td>\n",
       "      <td>36.0</td>\n",
       "      <td>467.0</td>\n",
       "      <td>0.0</td>\n",
       "      <td>128.0</td>\n",
       "      <td>0.0</td>\n",
       "      <td>0.0</td>\n",
       "      <td>...</td>\n",
       "      <td>467.0</td>\n",
       "      <td>0.0</td>\n",
       "      <td>128.0</td>\n",
       "      <td>0.0</td>\n",
       "      <td>0.0</td>\n",
       "      <td>0.0</td>\n",
       "      <td>0.0</td>\n",
       "      <td>0.0</td>\n",
       "      <td>0.0</td>\n",
       "      <td>2.397531</td>\n",
       "    </tr>\n",
       "    <tr>\n",
       "      <th>4</th>\n",
       "      <td>2.397531</td>\n",
       "      <td>2621.0</td>\n",
       "      <td>0.0</td>\n",
       "      <td>0.0</td>\n",
       "      <td>36.0</td>\n",
       "      <td>467.0</td>\n",
       "      <td>0.0</td>\n",
       "      <td>128.0</td>\n",
       "      <td>0.0</td>\n",
       "      <td>0.0</td>\n",
       "      <td>...</td>\n",
       "      <td>512.0</td>\n",
       "      <td>0.0</td>\n",
       "      <td>128.0</td>\n",
       "      <td>0.0</td>\n",
       "      <td>0.0</td>\n",
       "      <td>0.0</td>\n",
       "      <td>0.0</td>\n",
       "      <td>0.0</td>\n",
       "      <td>0.0</td>\n",
       "      <td>1.678357</td>\n",
       "    </tr>\n",
       "  </tbody>\n",
       "</table>\n",
       "<p>5 rows × 28 columns</p>\n",
       "</div>"
      ],
      "text/plain": [
       "          0       1    2    3     4      5    6      7    8    9  ...     18  \\\n",
       "0  1.632387     0.0  0.0  0.0  36.0  467.0  0.0  128.0  0.0  0.0  ...  467.0   \n",
       "1  2.397531  2621.0  0.0  0.0  36.0  467.0  0.0  128.0  0.0  0.0  ...  467.0   \n",
       "2  2.397531  2621.0  0.0  0.0  36.0  467.0  0.0  128.0  0.0  0.0  ...  467.0   \n",
       "3  2.397531  2621.0  0.0  0.0  36.0  467.0  0.0  128.0  0.0  0.0  ...  467.0   \n",
       "4  2.397531  2621.0  0.0  0.0  36.0  467.0  0.0  128.0  0.0  0.0  ...  512.0   \n",
       "\n",
       "    19     20   21   22   23   24   25   26        27  \n",
       "0  0.0  128.0  0.0  0.0  0.0  0.0  0.0  0.0  2.397531  \n",
       "1  0.0  128.0  0.0  0.0  0.0  0.0  0.0  0.0  2.397531  \n",
       "2  0.0  128.0  0.0  0.0  0.0  0.0  0.0  0.0  2.397531  \n",
       "3  0.0  128.0  0.0  0.0  0.0  0.0  0.0  0.0  2.397531  \n",
       "4  0.0  128.0  0.0  0.0  0.0  0.0  0.0  0.0  1.678357  \n",
       "\n",
       "[5 rows x 28 columns]"
      ]
     },
     "execution_count": 5,
     "metadata": {},
     "output_type": "execute_result"
    }
   ],
   "source": [
    "df.head()"
   ]
  },
  {
   "cell_type": "code",
   "execution_count": 6,
   "id": "f2c0c160",
   "metadata": {},
   "outputs": [],
   "source": [
    "X_train=df.drop('27',axis=1)\n",
    "y_train=df['27']"
   ]
  },
  {
   "cell_type": "code",
   "execution_count": 7,
   "id": "0e2af562",
   "metadata": {},
   "outputs": [],
   "source": [
    "from sklearn.preprocessing import StandardScaler\n"
   ]
  },
  {
   "cell_type": "code",
   "execution_count": 8,
   "id": "82515fc9",
   "metadata": {},
   "outputs": [],
   "source": [
    "scaler=StandardScaler()\n",
    "X_scaled=scaler.fit_transform(X_train)\n",
    "X_train=X_scaled"
   ]
  },
  {
   "cell_type": "code",
   "execution_count": 135,
   "id": "55cbe6c6",
   "metadata": {},
   "outputs": [],
   "source": [
    "import numpy as np\n",
    "import os\n",
    "import cv2\n",
    "import keras\n",
    "from keras.utils import np_utils\n",
    "from keras.models import Sequential\n",
    "from keras.layers import Conv2D,MaxPooling2D,Dense,Flatten,Dropout"
   ]
  },
  {
   "cell_type": "code",
   "execution_count": 136,
   "id": "17430a33",
   "metadata": {},
   "outputs": [
    {
     "name": "stdout",
     "output_type": "stream",
     "text": [
      "Model: \"sequential_13\"\n",
      "_________________________________________________________________\n",
      " Layer (type)                Output Shape              Param #   \n",
      "=================================================================\n",
      " dense_27 (Dense)            (None, 500)               14000     \n",
      "                                                                 \n",
      " dropout_14 (Dropout)        (None, 500)               0         \n",
      "                                                                 \n",
      " dense_28 (Dense)            (None, 1)                 501       \n",
      "                                                                 \n",
      "=================================================================\n",
      "Total params: 14,501\n",
      "Trainable params: 14,501\n",
      "Non-trainable params: 0\n",
      "_________________________________________________________________\n"
     ]
    }
   ],
   "source": [
    "model=Sequential()\n",
    "model.add(keras.Input(shape=(27,)))\n",
    "model.add(Dense(500,activation='relu'))\n",
    "model.add(Dropout(0.2))\n",
    "model.add(Dense(1,activation='relu'))\n",
    "model.summary()"
   ]
  },
  {
   "cell_type": "code",
   "execution_count": 137,
   "id": "4b672e00",
   "metadata": {},
   "outputs": [],
   "source": [
    "model.compile(loss='mean_absolute_percentage_error', optimizer='adam', metrics=['mse'])"
   ]
  },
  {
   "cell_type": "code",
   "execution_count": 138,
   "id": "12e328de",
   "metadata": {},
   "outputs": [
    {
     "name": "stdout",
     "output_type": "stream",
     "text": [
      "Epoch 1/20\n",
      "317/317 [==============================] - 0s 834us/step - loss: 13.6730 - mse: 0.7313\n",
      "Epoch 2/20\n",
      "317/317 [==============================] - 0s 851us/step - loss: 4.8342 - mse: 0.0775\n",
      "Epoch 3/20\n",
      "317/317 [==============================] - 0s 891us/step - loss: 4.1047 - mse: 0.0526\n",
      "Epoch 4/20\n",
      "317/317 [==============================] - 0s 877us/step - loss: 3.7298 - mse: 0.0450\n",
      "Epoch 5/20\n",
      "317/317 [==============================] - 0s 860us/step - loss: 3.9181 - mse: 0.0554\n",
      "Epoch 6/20\n",
      "317/317 [==============================] - 0s 936us/step - loss: 3.3696 - mse: 0.0356\n",
      "Epoch 7/20\n",
      "317/317 [==============================] - 0s 892us/step - loss: 3.2116 - mse: 0.0322\n",
      "Epoch 8/20\n",
      "317/317 [==============================] - 0s 856us/step - loss: 3.2626 - mse: 0.0680\n",
      "Epoch 9/20\n",
      "317/317 [==============================] - 0s 944us/step - loss: 3.0958 - mse: 0.0295\n",
      "Epoch 10/20\n",
      "317/317 [==============================] - 0s 859us/step - loss: 3.0434 - mse: 0.0281\n",
      "Epoch 11/20\n",
      "317/317 [==============================] - 0s 854us/step - loss: 2.9749 - mse: 0.0258\n",
      "Epoch 12/20\n",
      "317/317 [==============================] - 0s 850us/step - loss: 2.9023 - mse: 0.0255\n",
      "Epoch 13/20\n",
      "317/317 [==============================] - 0s 851us/step - loss: 2.9838 - mse: 0.0271\n",
      "Epoch 14/20\n",
      "317/317 [==============================] - 0s 857us/step - loss: 2.8699 - mse: 0.0255\n",
      "Epoch 15/20\n",
      "317/317 [==============================] - 0s 860us/step - loss: 2.6810 - mse: 0.0210\n",
      "Epoch 16/20\n",
      "317/317 [==============================] - 0s 852us/step - loss: 2.7222 - mse: 0.0222\n",
      "Epoch 17/20\n",
      "317/317 [==============================] - 0s 874us/step - loss: 2.5551 - mse: 0.0190\n",
      "Epoch 18/20\n",
      "317/317 [==============================] - 0s 851us/step - loss: 2.6358 - mse: 0.0210\n",
      "Epoch 19/20\n",
      "317/317 [==============================] - 0s 868us/step - loss: 2.6239 - mse: 0.0198\n",
      "Epoch 20/20\n",
      "317/317 [==============================] - 0s 858us/step - loss: 2.5002 - mse: 0.0195\n"
     ]
    },
    {
     "data": {
      "text/plain": [
       "<keras.callbacks.History at 0x7f7cc87cefb0>"
      ]
     },
     "execution_count": 138,
     "metadata": {},
     "output_type": "execute_result"
    }
   ],
   "source": [
    "model.fit(X_train,y_train,epochs=20,verbose=1)"
   ]
  },
  {
   "cell_type": "code",
   "execution_count": 139,
   "id": "5369cef0",
   "metadata": {},
   "outputs": [
    {
     "data": {
      "text/plain": [
       "<keras.engine.sequential.Sequential at 0x7f7cc86b0910>"
      ]
     },
     "execution_count": 139,
     "metadata": {},
     "output_type": "execute_result"
    }
   ],
   "source": [
    "model"
   ]
  },
  {
   "cell_type": "code",
   "execution_count": 140,
   "id": "30e38c7c",
   "metadata": {},
   "outputs": [
    {
     "data": {
      "text/plain": [
       "array([[5.452319]], dtype=float32)"
      ]
     },
     "execution_count": 140,
     "metadata": {},
     "output_type": "execute_result"
    }
   ],
   "source": [
    "test=np.array([X_train[100]])\n",
    "test=test[None:]\n",
    "model.predict(test)"
   ]
  },
  {
   "cell_type": "code",
   "execution_count": 141,
   "id": "4db33da1",
   "metadata": {},
   "outputs": [
    {
     "data": {
      "text/plain": [
       "array([[ 1.52489918, -0.17100584,  0.56377844,  0.47407922,  4.46122811,\n",
       "        -0.54041788,  2.86830783, 12.66308082,  3.20128922, -0.13643885,\n",
       "         0.3797529 ,  0.42404271,  0.38061286,  0.41964944, -0.21623113,\n",
       "         0.97553759,  2.02816775,  4.10084607,  2.6809851 ,  2.86830783,\n",
       "         0.01542448, -0.14105741,  3.50805696,  0.4785097 ,  0.50929021,\n",
       "         0.46623327,  0.50515716]])"
      ]
     },
     "execution_count": 141,
     "metadata": {},
     "output_type": "execute_result"
    }
   ],
   "source": [
    "test"
   ]
  },
  {
   "cell_type": "code",
   "execution_count": 142,
   "id": "6a29799d",
   "metadata": {},
   "outputs": [
    {
     "data": {
      "text/plain": [
       "array([[ -2.005974  , -57.92872789,  -5.43668291, ...,  -0.7469887 ,\n",
       "         -0.74597154,  -0.74595583],\n",
       "       [ -1.13920957,  -0.17100584,  -5.43668291, ...,  -0.7469887 ,\n",
       "         -0.74597154,  -0.74595583],\n",
       "       [ -1.13920957,  -0.17100584,  -5.43668291, ...,  -0.7469887 ,\n",
       "         -0.74597154,  -0.74595583],\n",
       "       ...,\n",
       "       [ -0.69262657,   0.13750545,  -0.50669923, ...,  -0.7469887 ,\n",
       "         -0.74597154,  -0.74595583],\n",
       "       [ -0.72921225,   0.13750545,  -0.5298447 , ...,  -0.7469887 ,\n",
       "         -0.74597154,  -0.74595583],\n",
       "       [ -0.72775807,   0.13750545,  -0.4777674 , ...,  -0.7469887 ,\n",
       "         -0.74597154,  -0.74595583]])"
      ]
     },
     "execution_count": 142,
     "metadata": {},
     "output_type": "execute_result"
    }
   ],
   "source": [
    "X_train"
   ]
  },
  {
   "cell_type": "code",
   "execution_count": 143,
   "id": "7f88ccd0",
   "metadata": {},
   "outputs": [],
   "source": [
    "model.save('behavourial_model.h5')"
   ]
  },
  {
   "cell_type": "code",
   "execution_count": 144,
   "id": "69130e49",
   "metadata": {},
   "outputs": [],
   "source": [
    "preds=model.predict(X_train[None:])"
   ]
  },
  {
   "cell_type": "code",
   "execution_count": 145,
   "id": "8b294e70",
   "metadata": {},
   "outputs": [],
   "source": [
    "a=[]\n",
    "for i in preds:\n",
    "    if i>5:\n",
    "        a.append(i)"
   ]
  },
  {
   "cell_type": "code",
   "execution_count": 146,
   "id": "5befb920",
   "metadata": {},
   "outputs": [
    {
     "data": {
      "text/plain": [
       "789"
      ]
     },
     "execution_count": 146,
     "metadata": {},
     "output_type": "execute_result"
    }
   ],
   "source": [
    "len(a)"
   ]
  },
  {
   "cell_type": "code",
   "execution_count": 147,
   "id": "c3d3ef58",
   "metadata": {},
   "outputs": [
    {
     "data": {
      "text/plain": [
       "10113"
      ]
     },
     "execution_count": 147,
     "metadata": {},
     "output_type": "execute_result"
    }
   ],
   "source": [
    "len(preds)"
   ]
  },
  {
   "cell_type": "code",
   "execution_count": 148,
   "id": "5bef60a2",
   "metadata": {},
   "outputs": [
    {
     "data": {
      "text/plain": [
       "array([[17.211504 ],\n",
       "       [ 2.9041867],\n",
       "       [ 2.9041867],\n",
       "       ...,\n",
       "       [ 2.7947564],\n",
       "       [ 2.791092 ],\n",
       "       [ 2.7912602]], dtype=float32)"
      ]
     },
     "execution_count": 148,
     "metadata": {},
     "output_type": "execute_result"
    }
   ],
   "source": [
    "preds"
   ]
  },
  {
   "cell_type": "code",
   "execution_count": 149,
   "id": "54369c5d",
   "metadata": {},
   "outputs": [],
   "source": [
    "from pickle import dump"
   ]
  },
  {
   "cell_type": "code",
   "execution_count": null,
   "id": "35a98e22",
   "metadata": {},
   "outputs": [],
   "source": []
  }
 ],
 "metadata": {
  "kernelspec": {
   "display_name": "Python 3 (ipykernel)",
   "language": "python",
   "name": "python3"
  },
  "language_info": {
   "codemirror_mode": {
    "name": "ipython",
    "version": 3
   },
   "file_extension": ".py",
   "mimetype": "text/x-python",
   "name": "python",
   "nbconvert_exporter": "python",
   "pygments_lexer": "ipython3",
   "version": "3.10.6"
  }
 },
 "nbformat": 4,
 "nbformat_minor": 5
}
