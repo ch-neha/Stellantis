{
 "cells": [
  {
   "cell_type": "code",
   "execution_count": 1,
   "id": "220ef67e",
   "metadata": {},
   "outputs": [],
   "source": [
    "import pandas as pd\n",
    "import numpy as np"
   ]
  },
  {
   "cell_type": "code",
   "execution_count": 2,
   "id": "cbe2ddb3",
   "metadata": {},
   "outputs": [],
   "source": [
    "df=pd.read_csv('Management.csv')"
   ]
  },
  {
   "cell_type": "code",
   "execution_count": 3,
   "id": "708e5e27",
   "metadata": {},
   "outputs": [
    {
     "data": {
      "text/html": [
       "<div>\n",
       "<style scoped>\n",
       "    .dataframe tbody tr th:only-of-type {\n",
       "        vertical-align: middle;\n",
       "    }\n",
       "\n",
       "    .dataframe tbody tr th {\n",
       "        vertical-align: top;\n",
       "    }\n",
       "\n",
       "    .dataframe thead th {\n",
       "        text-align: right;\n",
       "    }\n",
       "</style>\n",
       "<table border=\"1\" class=\"dataframe\">\n",
       "  <thead>\n",
       "    <tr style=\"text-align: right;\">\n",
       "      <th></th>\n",
       "      <th>Unnamed: 0</th>\n",
       "      <th>TotalOdo</th>\n",
       "      <th>ACPressure</th>\n",
       "      <th>EngineWaterTemp</th>\n",
       "      <th>ExternalTemperatureAD_Voltage</th>\n",
       "      <th>IBS_V_Batt</th>\n",
       "      <th>IBS_I_Batt</th>\n",
       "      <th>IBS_T_Batt</th>\n",
       "      <th>IBS_I_Range</th>\n",
       "      <th>IBS_SOC</th>\n",
       "      <th>...</th>\n",
       "      <th>IBS_Q_released</th>\n",
       "      <th>IBS_Tm_Lst_Reset_Days</th>\n",
       "      <th>IBS_R_Batt</th>\n",
       "      <th>IBS_R_Batt_25</th>\n",
       "      <th>IBS_SOF_t_Accuracy</th>\n",
       "      <th>IBS_PreWakeupVoltage</th>\n",
       "      <th>IBS_SOF_t</th>\n",
       "      <th>IBS_IBATT_QUIESCENT</th>\n",
       "      <th>IBS_SOF_V1</th>\n",
       "      <th>score</th>\n",
       "    </tr>\n",
       "  </thead>\n",
       "  <tbody>\n",
       "    <tr>\n",
       "      <th>0</th>\n",
       "      <td>0</td>\n",
       "      <td>0</td>\n",
       "      <td>0</td>\n",
       "      <td>0</td>\n",
       "      <td>0</td>\n",
       "      <td>0</td>\n",
       "      <td>0</td>\n",
       "      <td>0</td>\n",
       "      <td>0</td>\n",
       "      <td>0</td>\n",
       "      <td>...</td>\n",
       "      <td>0</td>\n",
       "      <td>0</td>\n",
       "      <td>0</td>\n",
       "      <td>0</td>\n",
       "      <td>0</td>\n",
       "      <td>0</td>\n",
       "      <td>0</td>\n",
       "      <td>0</td>\n",
       "      <td>0</td>\n",
       "      <td>0.000000</td>\n",
       "    </tr>\n",
       "    <tr>\n",
       "      <th>1</th>\n",
       "      <td>1</td>\n",
       "      <td>2621</td>\n",
       "      <td>75</td>\n",
       "      <td>75</td>\n",
       "      <td>77</td>\n",
       "      <td>9594</td>\n",
       "      <td>9594</td>\n",
       "      <td>74</td>\n",
       "      <td>1</td>\n",
       "      <td>99</td>\n",
       "      <td>...</td>\n",
       "      <td>0</td>\n",
       "      <td>0</td>\n",
       "      <td>0</td>\n",
       "      <td>0</td>\n",
       "      <td>0</td>\n",
       "      <td>0</td>\n",
       "      <td>0</td>\n",
       "      <td>0</td>\n",
       "      <td>0</td>\n",
       "      <td>5.192254</td>\n",
       "    </tr>\n",
       "    <tr>\n",
       "      <th>2</th>\n",
       "      <td>2</td>\n",
       "      <td>2621</td>\n",
       "      <td>75</td>\n",
       "      <td>75</td>\n",
       "      <td>77</td>\n",
       "      <td>9594</td>\n",
       "      <td>9594</td>\n",
       "      <td>74</td>\n",
       "      <td>1</td>\n",
       "      <td>99</td>\n",
       "      <td>...</td>\n",
       "      <td>1773</td>\n",
       "      <td>848</td>\n",
       "      <td>94</td>\n",
       "      <td>95</td>\n",
       "      <td>2</td>\n",
       "      <td>1023</td>\n",
       "      <td>247</td>\n",
       "      <td>253</td>\n",
       "      <td>129</td>\n",
       "      <td>8.908896</td>\n",
       "    </tr>\n",
       "    <tr>\n",
       "      <th>3</th>\n",
       "      <td>3</td>\n",
       "      <td>2621</td>\n",
       "      <td>75</td>\n",
       "      <td>75</td>\n",
       "      <td>77</td>\n",
       "      <td>9594</td>\n",
       "      <td>9594</td>\n",
       "      <td>74</td>\n",
       "      <td>1</td>\n",
       "      <td>99</td>\n",
       "      <td>...</td>\n",
       "      <td>1773</td>\n",
       "      <td>848</td>\n",
       "      <td>94</td>\n",
       "      <td>95</td>\n",
       "      <td>2</td>\n",
       "      <td>1023</td>\n",
       "      <td>247</td>\n",
       "      <td>253</td>\n",
       "      <td>129</td>\n",
       "      <td>8.908896</td>\n",
       "    </tr>\n",
       "    <tr>\n",
       "      <th>4</th>\n",
       "      <td>4</td>\n",
       "      <td>2621</td>\n",
       "      <td>75</td>\n",
       "      <td>75</td>\n",
       "      <td>77</td>\n",
       "      <td>9594</td>\n",
       "      <td>9594</td>\n",
       "      <td>74</td>\n",
       "      <td>1</td>\n",
       "      <td>99</td>\n",
       "      <td>...</td>\n",
       "      <td>1773</td>\n",
       "      <td>848</td>\n",
       "      <td>94</td>\n",
       "      <td>95</td>\n",
       "      <td>2</td>\n",
       "      <td>1023</td>\n",
       "      <td>247</td>\n",
       "      <td>253</td>\n",
       "      <td>129</td>\n",
       "      <td>8.908896</td>\n",
       "    </tr>\n",
       "  </tbody>\n",
       "</table>\n",
       "<p>5 rows × 28 columns</p>\n",
       "</div>"
      ],
      "text/plain": [
       "   Unnamed: 0  TotalOdo  ACPressure  EngineWaterTemp  \\\n",
       "0           0         0           0                0   \n",
       "1           1      2621          75               75   \n",
       "2           2      2621          75               75   \n",
       "3           3      2621          75               75   \n",
       "4           4      2621          75               75   \n",
       "\n",
       "   ExternalTemperatureAD_Voltage  IBS_V_Batt  IBS_I_Batt  IBS_T_Batt  \\\n",
       "0                              0           0           0           0   \n",
       "1                             77        9594        9594          74   \n",
       "2                             77        9594        9594          74   \n",
       "3                             77        9594        9594          74   \n",
       "4                             77        9594        9594          74   \n",
       "\n",
       "   IBS_I_Range  IBS_SOC  ...  IBS_Q_released  IBS_Tm_Lst_Reset_Days  \\\n",
       "0            0        0  ...               0                      0   \n",
       "1            1       99  ...               0                      0   \n",
       "2            1       99  ...            1773                    848   \n",
       "3            1       99  ...            1773                    848   \n",
       "4            1       99  ...            1773                    848   \n",
       "\n",
       "   IBS_R_Batt  IBS_R_Batt_25  IBS_SOF_t_Accuracy  IBS_PreWakeupVoltage  \\\n",
       "0           0              0                   0                     0   \n",
       "1           0              0                   0                     0   \n",
       "2          94             95                   2                  1023   \n",
       "3          94             95                   2                  1023   \n",
       "4          94             95                   2                  1023   \n",
       "\n",
       "   IBS_SOF_t  IBS_IBATT_QUIESCENT  IBS_SOF_V1     score  \n",
       "0          0                    0           0  0.000000  \n",
       "1          0                    0           0  5.192254  \n",
       "2        247                  253         129  8.908896  \n",
       "3        247                  253         129  8.908896  \n",
       "4        247                  253         129  8.908896  \n",
       "\n",
       "[5 rows x 28 columns]"
      ]
     },
     "execution_count": 3,
     "metadata": {},
     "output_type": "execute_result"
    }
   ],
   "source": [
    "df.head()"
   ]
  },
  {
   "cell_type": "code",
   "execution_count": 4,
   "id": "3cbec2da",
   "metadata": {},
   "outputs": [],
   "source": [
    "df=df.drop('Unnamed: 0',axis=1)"
   ]
  },
  {
   "cell_type": "code",
   "execution_count": 5,
   "id": "7c62548e",
   "metadata": {},
   "outputs": [
    {
     "data": {
      "text/html": [
       "<div>\n",
       "<style scoped>\n",
       "    .dataframe tbody tr th:only-of-type {\n",
       "        vertical-align: middle;\n",
       "    }\n",
       "\n",
       "    .dataframe tbody tr th {\n",
       "        vertical-align: top;\n",
       "    }\n",
       "\n",
       "    .dataframe thead th {\n",
       "        text-align: right;\n",
       "    }\n",
       "</style>\n",
       "<table border=\"1\" class=\"dataframe\">\n",
       "  <thead>\n",
       "    <tr style=\"text-align: right;\">\n",
       "      <th></th>\n",
       "      <th>TotalOdo</th>\n",
       "      <th>ACPressure</th>\n",
       "      <th>EngineWaterTemp</th>\n",
       "      <th>ExternalTemperatureAD_Voltage</th>\n",
       "      <th>IBS_V_Batt</th>\n",
       "      <th>IBS_I_Batt</th>\n",
       "      <th>IBS_T_Batt</th>\n",
       "      <th>IBS_I_Range</th>\n",
       "      <th>IBS_SOC</th>\n",
       "      <th>IBS_SOF_Q</th>\n",
       "      <th>...</th>\n",
       "      <th>IBS_Q_released</th>\n",
       "      <th>IBS_Tm_Lst_Reset_Days</th>\n",
       "      <th>IBS_R_Batt</th>\n",
       "      <th>IBS_R_Batt_25</th>\n",
       "      <th>IBS_SOF_t_Accuracy</th>\n",
       "      <th>IBS_PreWakeupVoltage</th>\n",
       "      <th>IBS_SOF_t</th>\n",
       "      <th>IBS_IBATT_QUIESCENT</th>\n",
       "      <th>IBS_SOF_V1</th>\n",
       "      <th>score</th>\n",
       "    </tr>\n",
       "  </thead>\n",
       "  <tbody>\n",
       "    <tr>\n",
       "      <th>0</th>\n",
       "      <td>0</td>\n",
       "      <td>0</td>\n",
       "      <td>0</td>\n",
       "      <td>0</td>\n",
       "      <td>0</td>\n",
       "      <td>0</td>\n",
       "      <td>0</td>\n",
       "      <td>0</td>\n",
       "      <td>0</td>\n",
       "      <td>0</td>\n",
       "      <td>...</td>\n",
       "      <td>0</td>\n",
       "      <td>0</td>\n",
       "      <td>0</td>\n",
       "      <td>0</td>\n",
       "      <td>0</td>\n",
       "      <td>0</td>\n",
       "      <td>0</td>\n",
       "      <td>0</td>\n",
       "      <td>0</td>\n",
       "      <td>0.000000</td>\n",
       "    </tr>\n",
       "    <tr>\n",
       "      <th>1</th>\n",
       "      <td>2621</td>\n",
       "      <td>75</td>\n",
       "      <td>75</td>\n",
       "      <td>77</td>\n",
       "      <td>9594</td>\n",
       "      <td>9594</td>\n",
       "      <td>74</td>\n",
       "      <td>1</td>\n",
       "      <td>99</td>\n",
       "      <td>106</td>\n",
       "      <td>...</td>\n",
       "      <td>0</td>\n",
       "      <td>0</td>\n",
       "      <td>0</td>\n",
       "      <td>0</td>\n",
       "      <td>0</td>\n",
       "      <td>0</td>\n",
       "      <td>0</td>\n",
       "      <td>0</td>\n",
       "      <td>0</td>\n",
       "      <td>5.192254</td>\n",
       "    </tr>\n",
       "    <tr>\n",
       "      <th>2</th>\n",
       "      <td>2621</td>\n",
       "      <td>75</td>\n",
       "      <td>75</td>\n",
       "      <td>77</td>\n",
       "      <td>9594</td>\n",
       "      <td>9594</td>\n",
       "      <td>74</td>\n",
       "      <td>1</td>\n",
       "      <td>99</td>\n",
       "      <td>106</td>\n",
       "      <td>...</td>\n",
       "      <td>1773</td>\n",
       "      <td>848</td>\n",
       "      <td>94</td>\n",
       "      <td>95</td>\n",
       "      <td>2</td>\n",
       "      <td>1023</td>\n",
       "      <td>247</td>\n",
       "      <td>253</td>\n",
       "      <td>129</td>\n",
       "      <td>8.908896</td>\n",
       "    </tr>\n",
       "    <tr>\n",
       "      <th>3</th>\n",
       "      <td>2621</td>\n",
       "      <td>75</td>\n",
       "      <td>75</td>\n",
       "      <td>77</td>\n",
       "      <td>9594</td>\n",
       "      <td>9594</td>\n",
       "      <td>74</td>\n",
       "      <td>1</td>\n",
       "      <td>99</td>\n",
       "      <td>106</td>\n",
       "      <td>...</td>\n",
       "      <td>1773</td>\n",
       "      <td>848</td>\n",
       "      <td>94</td>\n",
       "      <td>95</td>\n",
       "      <td>2</td>\n",
       "      <td>1023</td>\n",
       "      <td>247</td>\n",
       "      <td>253</td>\n",
       "      <td>129</td>\n",
       "      <td>8.908896</td>\n",
       "    </tr>\n",
       "    <tr>\n",
       "      <th>4</th>\n",
       "      <td>2621</td>\n",
       "      <td>75</td>\n",
       "      <td>75</td>\n",
       "      <td>77</td>\n",
       "      <td>9594</td>\n",
       "      <td>9594</td>\n",
       "      <td>74</td>\n",
       "      <td>1</td>\n",
       "      <td>99</td>\n",
       "      <td>106</td>\n",
       "      <td>...</td>\n",
       "      <td>1773</td>\n",
       "      <td>848</td>\n",
       "      <td>94</td>\n",
       "      <td>95</td>\n",
       "      <td>2</td>\n",
       "      <td>1023</td>\n",
       "      <td>247</td>\n",
       "      <td>253</td>\n",
       "      <td>129</td>\n",
       "      <td>8.908896</td>\n",
       "    </tr>\n",
       "  </tbody>\n",
       "</table>\n",
       "<p>5 rows × 27 columns</p>\n",
       "</div>"
      ],
      "text/plain": [
       "   TotalOdo  ACPressure  EngineWaterTemp  ExternalTemperatureAD_Voltage  \\\n",
       "0         0           0                0                              0   \n",
       "1      2621          75               75                             77   \n",
       "2      2621          75               75                             77   \n",
       "3      2621          75               75                             77   \n",
       "4      2621          75               75                             77   \n",
       "\n",
       "   IBS_V_Batt  IBS_I_Batt  IBS_T_Batt  IBS_I_Range  IBS_SOC  IBS_SOF_Q  ...  \\\n",
       "0           0           0           0            0        0          0  ...   \n",
       "1        9594        9594          74            1       99        106  ...   \n",
       "2        9594        9594          74            1       99        106  ...   \n",
       "3        9594        9594          74            1       99        106  ...   \n",
       "4        9594        9594          74            1       99        106  ...   \n",
       "\n",
       "   IBS_Q_released  IBS_Tm_Lst_Reset_Days  IBS_R_Batt  IBS_R_Batt_25  \\\n",
       "0               0                      0           0              0   \n",
       "1               0                      0           0              0   \n",
       "2            1773                    848          94             95   \n",
       "3            1773                    848          94             95   \n",
       "4            1773                    848          94             95   \n",
       "\n",
       "   IBS_SOF_t_Accuracy  IBS_PreWakeupVoltage  IBS_SOF_t  IBS_IBATT_QUIESCENT  \\\n",
       "0                   0                     0          0                    0   \n",
       "1                   0                     0          0                    0   \n",
       "2                   2                  1023        247                  253   \n",
       "3                   2                  1023        247                  253   \n",
       "4                   2                  1023        247                  253   \n",
       "\n",
       "   IBS_SOF_V1     score  \n",
       "0           0  0.000000  \n",
       "1           0  5.192254  \n",
       "2         129  8.908896  \n",
       "3         129  8.908896  \n",
       "4         129  8.908896  \n",
       "\n",
       "[5 rows x 27 columns]"
      ]
     },
     "execution_count": 5,
     "metadata": {},
     "output_type": "execute_result"
    }
   ],
   "source": [
    "df.head()"
   ]
  },
  {
   "cell_type": "code",
   "execution_count": 6,
   "id": "5698491e",
   "metadata": {},
   "outputs": [],
   "source": [
    "X_train=df.drop('score',axis=1)\n",
    "y_train=df['score']"
   ]
  },
  {
   "cell_type": "code",
   "execution_count": 10,
   "id": "addbaa27",
   "metadata": {},
   "outputs": [
    {
     "data": {
      "text/plain": [
       "array([ 2621,   122,    79,    78, 11101, 11101,    74,     1,    99,\n",
       "         106,     2,     2,   138,   156,     0,     2,  2441,  1774,\n",
       "         848,    96,    98,     2,  1023,   258,   255,   125])"
      ]
     },
     "execution_count": 10,
     "metadata": {},
     "output_type": "execute_result"
    }
   ],
   "source": [
    "np.array(X_train.iloc[100])"
   ]
  },
  {
   "cell_type": "code",
   "execution_count": 9,
   "id": "c4933795",
   "metadata": {},
   "outputs": [],
   "source": [
    "from sklearn.preprocessing import StandardScaler\n"
   ]
  },
  {
   "cell_type": "code",
   "execution_count": 10,
   "id": "52c1a0a1",
   "metadata": {},
   "outputs": [],
   "source": [
    "scaler=StandardScaler()\n",
    "X_scaled=scaler.fit_transform(X_train)\n",
    "X_train=X_scaled"
   ]
  },
  {
   "cell_type": "code",
   "execution_count": 11,
   "id": "5f261a7e",
   "metadata": {},
   "outputs": [
    {
     "name": "stderr",
     "output_type": "stream",
     "text": [
      "2022-10-29 22:37:12.567876: W tensorflow/stream_executor/platform/default/dso_loader.cc:64] Could not load dynamic library 'libcudart.so.11.0'; dlerror: libcudart.so.11.0: cannot open shared object file: No such file or directory; LD_LIBRARY_PATH: /home/sairamgundala/.local/lib/python3.10/site-packages/cv2/../../lib64:\n",
      "2022-10-29 22:37:12.567898: I tensorflow/stream_executor/cuda/cudart_stub.cc:29] Ignore above cudart dlerror if you do not have a GPU set up on your machine.\n"
     ]
    }
   ],
   "source": [
    "import numpy as np\n",
    "import os\n",
    "import cv2\n",
    "import keras\n",
    "from keras.utils import np_utils\n",
    "from keras.models import Sequential\n",
    "from keras.layers import Conv2D,MaxPooling2D,Dense,Flatten,Dropout"
   ]
  },
  {
   "cell_type": "code",
   "execution_count": 19,
   "id": "dfe171c0",
   "metadata": {},
   "outputs": [
    {
     "name": "stdout",
     "output_type": "stream",
     "text": [
      "Model: \"sequential_1\"\n",
      "_________________________________________________________________\n",
      " Layer (type)                Output Shape              Param #   \n",
      "=================================================================\n",
      " dense_2 (Dense)             (None, 500)               13500     \n",
      "                                                                 \n",
      " dropout_1 (Dropout)         (None, 500)               0         \n",
      "                                                                 \n",
      " dense_3 (Dense)             (None, 1)                 501       \n",
      "                                                                 \n",
      "=================================================================\n",
      "Total params: 14,001\n",
      "Trainable params: 14,001\n",
      "Non-trainable params: 0\n",
      "_________________________________________________________________\n"
     ]
    }
   ],
   "source": [
    "model=Sequential()\n",
    "model.add(keras.Input(shape=(X_train.shape[1],)))\n",
    "model.add(Dense(500,activation='relu'))\n",
    "model.add(Dropout(0.2))\n",
    "model.add(Dense(1,activation='relu'))\n",
    "model.summary()"
   ]
  },
  {
   "cell_type": "code",
   "execution_count": 20,
   "id": "afb2e8a8",
   "metadata": {},
   "outputs": [],
   "source": [
    "model.compile(loss='mean_absolute_percentage_error', optimizer='adam', metrics=['mse'])"
   ]
  },
  {
   "cell_type": "code",
   "execution_count": 21,
   "id": "24d8312b",
   "metadata": {},
   "outputs": [
    {
     "name": "stdout",
     "output_type": "stream",
     "text": [
      "Epoch 1/20\n",
      "317/317 [==============================] - 0s 853us/step - loss: 19.3755 - mse: 9.3197\n",
      "Epoch 2/20\n",
      "317/317 [==============================] - 0s 871us/step - loss: 3.4918 - mse: 0.1755\n",
      "Epoch 3/20\n",
      "317/317 [==============================] - 0s 867us/step - loss: 3.1859 - mse: 0.1494\n",
      "Epoch 4/20\n",
      "317/317 [==============================] - 0s 924us/step - loss: 2.9799 - mse: 0.1329\n",
      "Epoch 5/20\n",
      "317/317 [==============================] - 0s 863us/step - loss: 2.8769 - mse: 0.1256\n",
      "Epoch 6/20\n",
      "317/317 [==============================] - 0s 874us/step - loss: 2.7951 - mse: 0.1175\n",
      "Epoch 7/20\n",
      "317/317 [==============================] - 0s 881us/step - loss: 2.7008 - mse: 0.1118\n",
      "Epoch 8/20\n",
      "317/317 [==============================] - 0s 872us/step - loss: 2.7004 - mse: 0.1121\n",
      "Epoch 9/20\n",
      "317/317 [==============================] - 0s 871us/step - loss: 2.6400 - mse: 0.1078\n",
      "Epoch 10/20\n",
      "317/317 [==============================] - 0s 881us/step - loss: 2.5768 - mse: 0.1026\n",
      "Epoch 11/20\n",
      "317/317 [==============================] - 0s 894us/step - loss: 2.5950 - mse: 0.1040\n",
      "Epoch 12/20\n",
      "317/317 [==============================] - 0s 930us/step - loss: 2.4904 - mse: 0.0980\n",
      "Epoch 13/20\n",
      "317/317 [==============================] - 0s 957us/step - loss: 2.4930 - mse: 0.0986\n",
      "Epoch 14/20\n",
      "317/317 [==============================] - 0s 931us/step - loss: 2.4696 - mse: 0.0973\n",
      "Epoch 15/20\n",
      "317/317 [==============================] - 0s 879us/step - loss: 2.4408 - mse: 0.0935\n",
      "Epoch 16/20\n",
      "317/317 [==============================] - 0s 913us/step - loss: 2.4813 - mse: 0.0962\n",
      "Epoch 17/20\n",
      "317/317 [==============================] - 0s 923us/step - loss: 2.4501 - mse: 0.0947\n",
      "Epoch 18/20\n",
      "317/317 [==============================] - 0s 891us/step - loss: 2.4273 - mse: 0.0931\n",
      "Epoch 19/20\n",
      "317/317 [==============================] - 0s 990us/step - loss: 2.3624 - mse: 0.0897\n",
      "Epoch 20/20\n",
      "317/317 [==============================] - 0s 918us/step - loss: 2.3300 - mse: 0.0875\n"
     ]
    },
    {
     "data": {
      "text/plain": [
       "<keras.callbacks.History at 0x7ff32c7d16f0>"
      ]
     },
     "execution_count": 21,
     "metadata": {},
     "output_type": "execute_result"
    }
   ],
   "source": [
    "model.fit(X_train,y_train,epochs=20,verbose=1)"
   ]
  },
  {
   "cell_type": "code",
   "execution_count": 22,
   "id": "1c97d850",
   "metadata": {},
   "outputs": [
    {
     "data": {
      "text/plain": [
       "array([[9.179107]], dtype=float32)"
      ]
     },
     "execution_count": 22,
     "metadata": {},
     "output_type": "execute_result"
    }
   ],
   "source": [
    "test=np.array([X_train[100]])\n",
    "test=test[None:]\n",
    "model.predict(test)"
   ]
  },
  {
   "cell_type": "code",
   "execution_count": 25,
   "id": "be237142",
   "metadata": {},
   "outputs": [
    {
     "name": "stdout",
     "output_type": "stream",
     "text": [
      "317/317 [==============================] - 0s 551us/step - loss: 0.5669 - mse: 0.0249\n"
     ]
    },
    {
     "data": {
      "text/plain": [
       "[0.5669384002685547, 0.02486356534063816]"
      ]
     },
     "execution_count": 25,
     "metadata": {},
     "output_type": "execute_result"
    }
   ],
   "source": [
    "model.evaluate(X_train,y_train)"
   ]
  },
  {
   "cell_type": "code",
   "execution_count": 23,
   "id": "dabe43aa",
   "metadata": {},
   "outputs": [],
   "source": [
    "model.save('MaintenanceModel.h5')"
   ]
  },
  {
   "cell_type": "code",
   "execution_count": 24,
   "id": "929173fc",
   "metadata": {},
   "outputs": [],
   "source": [
    "from pickle import dump"
   ]
  },
  {
   "cell_type": "code",
   "execution_count": 27,
   "id": "9126077e",
   "metadata": {},
   "outputs": [
    {
     "ename": "FileNotFoundError",
     "evalue": "[Errno 2] No such file or directory: 'maintanenceScale.pkl'",
     "output_type": "error",
     "traceback": [
      "\u001b[0;31m---------------------------------------------------------------------------\u001b[0m",
      "\u001b[0;31mFileNotFoundError\u001b[0m                         Traceback (most recent call last)",
      "Input \u001b[0;32mIn [27]\u001b[0m, in \u001b[0;36m<cell line: 1>\u001b[0;34m()\u001b[0m\n\u001b[0;32m----> 1\u001b[0m dump(scaler,\u001b[38;5;28;43mopen\u001b[39;49m\u001b[43m(\u001b[49m\u001b[38;5;124;43m'\u001b[39;49m\u001b[38;5;124;43mmaintanenceScale.pkl\u001b[39;49m\u001b[38;5;124;43m'\u001b[39;49m\u001b[43m,\u001b[49m\u001b[38;5;124;43m'\u001b[39;49m\u001b[38;5;124;43mrb\u001b[39;49m\u001b[38;5;124;43m'\u001b[39;49m\u001b[43m)\u001b[49m)\n",
      "\u001b[0;31mFileNotFoundError\u001b[0m: [Errno 2] No such file or directory: 'maintanenceScale.pkl'"
     ]
    }
   ],
   "source": [
    "dump(scaler,open('maintanenceScale.pkl','rb'))"
   ]
  },
  {
   "cell_type": "code",
   "execution_count": null,
   "id": "1026a443",
   "metadata": {},
   "outputs": [],
   "source": []
  }
 ],
 "metadata": {
  "kernelspec": {
   "display_name": "Python 3 (ipykernel)",
   "language": "python",
   "name": "python3"
  },
  "language_info": {
   "codemirror_mode": {
    "name": "ipython",
    "version": 3
   },
   "file_extension": ".py",
   "mimetype": "text/x-python",
   "name": "python",
   "nbconvert_exporter": "python",
   "pygments_lexer": "ipython3",
   "version": "3.10.6"
  }
 },
 "nbformat": 4,
 "nbformat_minor": 5
}
